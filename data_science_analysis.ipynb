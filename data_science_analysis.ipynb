{
 "cells": [
  {
   "cell_type": "code",
   "execution_count": 1,
   "id": "b1eed0ff",
   "metadata": {},
   "outputs": [],
   "source": [
    "import pandas as pd"
   ]
  },
  {
   "cell_type": "markdown",
   "id": "42178972",
   "metadata": {},
   "source": [
    "Загружаем таблицу с данными"
   ]
  },
  {
   "cell_type": "code",
   "execution_count": 10,
   "id": "41551642",
   "metadata": {},
   "outputs": [],
   "source": [
    "df = pd.read_csv('DataScienceJobs.csv')"
   ]
  },
  {
   "cell_type": "code",
   "execution_count": 11,
   "id": "6b6f61c2",
   "metadata": {},
   "outputs": [
    {
     "data": {
      "text/html": [
       "<div>\n",
       "<style scoped>\n",
       "    .dataframe tbody tr th:only-of-type {\n",
       "        vertical-align: middle;\n",
       "    }\n",
       "\n",
       "    .dataframe tbody tr th {\n",
       "        vertical-align: top;\n",
       "    }\n",
       "\n",
       "    .dataframe thead th {\n",
       "        text-align: right;\n",
       "    }\n",
       "</style>\n",
       "<table border=\"1\" class=\"dataframe\">\n",
       "  <thead>\n",
       "    <tr style=\"text-align: right;\">\n",
       "      <th></th>\n",
       "      <th>name</th>\n",
       "      <th>address</th>\n",
       "      <th>experience</th>\n",
       "      <th>skills</th>\n",
       "      <th>sal_from</th>\n",
       "      <th>sal_to</th>\n",
       "    </tr>\n",
       "  </thead>\n",
       "  <tbody>\n",
       "    <tr>\n",
       "      <th>0</th>\n",
       "      <td>Начинающий специалист по работе с нейросетям</td>\n",
       "      <td>Санкт-Петербург</td>\n",
       "      <td>От 1 года до 3 лет</td>\n",
       "      <td>Разработка технических заданий, Python, Сбор и...</td>\n",
       "      <td>55000</td>\n",
       "      <td>60000</td>\n",
       "    </tr>\n",
       "    <tr>\n",
       "      <th>1</th>\n",
       "      <td>Junior Data Engineer</td>\n",
       "      <td>Нижний Новгород</td>\n",
       "      <td>От 1 года до 3 лет</td>\n",
       "      <td>SQL, jvm, Hadoop</td>\n",
       "      <td>150000</td>\n",
       "      <td>200000</td>\n",
       "    </tr>\n",
       "    <tr>\n",
       "      <th>2</th>\n",
       "      <td>ML-инженер</td>\n",
       "      <td>Москва</td>\n",
       "      <td>Нет опыта</td>\n",
       "      <td>Знания математики, алгоритмов, структур данных...</td>\n",
       "      <td>150000</td>\n",
       "      <td>170000</td>\n",
       "    </tr>\n",
       "    <tr>\n",
       "      <th>3</th>\n",
       "      <td>Data Scientist</td>\n",
       "      <td>Москва</td>\n",
       "      <td>От 1 года до 3 лет</td>\n",
       "      <td>Python, Machine Learning, Математическое модел...</td>\n",
       "      <td>180000</td>\n",
       "      <td>200000</td>\n",
       "    </tr>\n",
       "    <tr>\n",
       "      <th>4</th>\n",
       "      <td>Python Developer (Junior)</td>\n",
       "      <td>Томск</td>\n",
       "      <td>От 1 года до 3 лет</td>\n",
       "      <td>Python, Git, ООП, MySQL</td>\n",
       "      <td>60000</td>\n",
       "      <td>110000</td>\n",
       "    </tr>\n",
       "    <tr>\n",
       "      <th>...</th>\n",
       "      <td>...</td>\n",
       "      <td>...</td>\n",
       "      <td>...</td>\n",
       "      <td>...</td>\n",
       "      <td>...</td>\n",
       "      <td>...</td>\n",
       "    </tr>\n",
       "    <tr>\n",
       "      <th>355</th>\n",
       "      <td>Ведущий специалист по разработке скоринговых карт</td>\n",
       "      <td>Новосибирск</td>\n",
       "      <td>От 1 года до 3 лет</td>\n",
       "      <td>SQL, Sas, Базы данных, Скоринговая карта, База...</td>\n",
       "      <td>55000</td>\n",
       "      <td>105000</td>\n",
       "    </tr>\n",
       "    <tr>\n",
       "      <th>356</th>\n",
       "      <td>Lead data scientist (Анализ цены и Trade in)</td>\n",
       "      <td>Москва</td>\n",
       "      <td>От 3 до 6 лет</td>\n",
       "      <td>PyData: Pandas, NumPy, SciPy, scikit-learn, py...</td>\n",
       "      <td>180000</td>\n",
       "      <td>200000</td>\n",
       "    </tr>\n",
       "    <tr>\n",
       "      <th>357</th>\n",
       "      <td>Senior Data Scientist</td>\n",
       "      <td>Томск</td>\n",
       "      <td>Более 6 лет</td>\n",
       "      <td>SQL, Анализ данных, A/B тесты, LTV prediction,...</td>\n",
       "      <td>200000</td>\n",
       "      <td>210000</td>\n",
       "    </tr>\n",
       "    <tr>\n",
       "      <th>358</th>\n",
       "      <td>Data engineer (middle+)</td>\n",
       "      <td>Новосибирск</td>\n",
       "      <td>От 3 до 6 лет</td>\n",
       "      <td>Linux, ETL, Apache Kafka, Apache Spark, Apache...</td>\n",
       "      <td>150000</td>\n",
       "      <td>180000</td>\n",
       "    </tr>\n",
       "    <tr>\n",
       "      <th>359</th>\n",
       "      <td>Автор дисциплины \"Задачи NLP в машинном обучении\"</td>\n",
       "      <td>Нижний Новгород</td>\n",
       "      <td>От 3 до 6 лет</td>\n",
       "      <td>NLP, ML, Data Science, Обучение и развитие, На...</td>\n",
       "      <td>270000</td>\n",
       "      <td>320000</td>\n",
       "    </tr>\n",
       "  </tbody>\n",
       "</table>\n",
       "<p>360 rows × 6 columns</p>\n",
       "</div>"
      ],
      "text/plain": [
       "                                                  name          address  \\\n",
       "0         Начинающий специалист по работе с нейросетям  Санкт-Петербург   \n",
       "1                                 Junior Data Engineer  Нижний Новгород   \n",
       "2                                           ML-инженер           Москва   \n",
       "3                                       Data Scientist           Москва   \n",
       "4                            Python Developer (Junior)            Томск   \n",
       "..                                                 ...              ...   \n",
       "355  Ведущий специалист по разработке скоринговых карт      Новосибирск   \n",
       "356       Lead data scientist (Анализ цены и Trade in)           Москва   \n",
       "357                              Senior Data Scientist            Томск   \n",
       "358                            Data engineer (middle+)      Новосибирск   \n",
       "359  Автор дисциплины \"Задачи NLP в машинном обучении\"  Нижний Новгород   \n",
       "\n",
       "             experience                                             skills  \\\n",
       "0    От 1 года до 3 лет  Разработка технических заданий, Python, Сбор и...   \n",
       "1    От 1 года до 3 лет                                   SQL, jvm, Hadoop   \n",
       "2             Нет опыта  Знания математики, алгоритмов, структур данных...   \n",
       "3    От 1 года до 3 лет  Python, Machine Learning, Математическое модел...   \n",
       "4    От 1 года до 3 лет                            Python, Git, ООП, MySQL   \n",
       "..                  ...                                                ...   \n",
       "355  От 1 года до 3 лет  SQL, Sas, Базы данных, Скоринговая карта, База...   \n",
       "356       От 3 до 6 лет  PyData: Pandas, NumPy, SciPy, scikit-learn, py...   \n",
       "357         Более 6 лет  SQL, Анализ данных, A/B тесты, LTV prediction,...   \n",
       "358       От 3 до 6 лет  Linux, ETL, Apache Kafka, Apache Spark, Apache...   \n",
       "359       От 3 до 6 лет  NLP, ML, Data Science, Обучение и развитие, На...   \n",
       "\n",
       "     sal_from  sal_to  \n",
       "0       55000   60000  \n",
       "1      150000  200000  \n",
       "2      150000  170000  \n",
       "3      180000  200000  \n",
       "4       60000  110000  \n",
       "..        ...     ...  \n",
       "355     55000  105000  \n",
       "356    180000  200000  \n",
       "357    200000  210000  \n",
       "358    150000  180000  \n",
       "359    270000  320000  \n",
       "\n",
       "[360 rows x 6 columns]"
      ]
     },
     "execution_count": 11,
     "metadata": {},
     "output_type": "execute_result"
    }
   ],
   "source": [
    "df # получение всей таблицы"
   ]
  },
  {
   "cell_type": "code",
   "execution_count": 12,
   "id": "909ce7d6",
   "metadata": {},
   "outputs": [
    {
     "data": {
      "text/html": [
       "<div>\n",
       "<style scoped>\n",
       "    .dataframe tbody tr th:only-of-type {\n",
       "        vertical-align: middle;\n",
       "    }\n",
       "\n",
       "    .dataframe tbody tr th {\n",
       "        vertical-align: top;\n",
       "    }\n",
       "\n",
       "    .dataframe thead th {\n",
       "        text-align: right;\n",
       "    }\n",
       "</style>\n",
       "<table border=\"1\" class=\"dataframe\">\n",
       "  <thead>\n",
       "    <tr style=\"text-align: right;\">\n",
       "      <th></th>\n",
       "      <th>name</th>\n",
       "      <th>address</th>\n",
       "      <th>experience</th>\n",
       "      <th>skills</th>\n",
       "      <th>sal_from</th>\n",
       "      <th>sal_to</th>\n",
       "    </tr>\n",
       "  </thead>\n",
       "  <tbody>\n",
       "    <tr>\n",
       "      <th>0</th>\n",
       "      <td>Начинающий специалист по работе с нейросетям</td>\n",
       "      <td>Санкт-Петербург</td>\n",
       "      <td>От 1 года до 3 лет</td>\n",
       "      <td>Разработка технических заданий, Python, Сбор и...</td>\n",
       "      <td>55000</td>\n",
       "      <td>60000</td>\n",
       "    </tr>\n",
       "    <tr>\n",
       "      <th>1</th>\n",
       "      <td>Junior Data Engineer</td>\n",
       "      <td>Нижний Новгород</td>\n",
       "      <td>От 1 года до 3 лет</td>\n",
       "      <td>SQL, jvm, Hadoop</td>\n",
       "      <td>150000</td>\n",
       "      <td>200000</td>\n",
       "    </tr>\n",
       "    <tr>\n",
       "      <th>2</th>\n",
       "      <td>ML-инженер</td>\n",
       "      <td>Москва</td>\n",
       "      <td>Нет опыта</td>\n",
       "      <td>Знания математики, алгоритмов, структур данных...</td>\n",
       "      <td>150000</td>\n",
       "      <td>170000</td>\n",
       "    </tr>\n",
       "    <tr>\n",
       "      <th>3</th>\n",
       "      <td>Data Scientist</td>\n",
       "      <td>Москва</td>\n",
       "      <td>От 1 года до 3 лет</td>\n",
       "      <td>Python, Machine Learning, Математическое модел...</td>\n",
       "      <td>180000</td>\n",
       "      <td>200000</td>\n",
       "    </tr>\n",
       "    <tr>\n",
       "      <th>4</th>\n",
       "      <td>Python Developer (Junior)</td>\n",
       "      <td>Томск</td>\n",
       "      <td>От 1 года до 3 лет</td>\n",
       "      <td>Python, Git, ООП, MySQL</td>\n",
       "      <td>60000</td>\n",
       "      <td>110000</td>\n",
       "    </tr>\n",
       "  </tbody>\n",
       "</table>\n",
       "</div>"
      ],
      "text/plain": [
       "                                           name          address  \\\n",
       "0  Начинающий специалист по работе с нейросетям  Санкт-Петербург   \n",
       "1                          Junior Data Engineer  Нижний Новгород   \n",
       "2                                    ML-инженер           Москва   \n",
       "3                                Data Scientist           Москва   \n",
       "4                     Python Developer (Junior)            Томск   \n",
       "\n",
       "           experience                                             skills  \\\n",
       "0  От 1 года до 3 лет  Разработка технических заданий, Python, Сбор и...   \n",
       "1  От 1 года до 3 лет                                   SQL, jvm, Hadoop   \n",
       "2           Нет опыта  Знания математики, алгоритмов, структур данных...   \n",
       "3  От 1 года до 3 лет  Python, Machine Learning, Математическое модел...   \n",
       "4  От 1 года до 3 лет                            Python, Git, ООП, MySQL   \n",
       "\n",
       "   sal_from  sal_to  \n",
       "0     55000   60000  \n",
       "1    150000  200000  \n",
       "2    150000  170000  \n",
       "3    180000  200000  \n",
       "4     60000  110000  "
      ]
     },
     "execution_count": 12,
     "metadata": {},
     "output_type": "execute_result"
    }
   ],
   "source": [
    "df.head() # получение первых пяти строк таблицы"
   ]
  },
  {
   "cell_type": "code",
   "execution_count": 13,
   "id": "8de844ca",
   "metadata": {},
   "outputs": [
    {
     "data": {
      "text/html": [
       "<div>\n",
       "<style scoped>\n",
       "    .dataframe tbody tr th:only-of-type {\n",
       "        vertical-align: middle;\n",
       "    }\n",
       "\n",
       "    .dataframe tbody tr th {\n",
       "        vertical-align: top;\n",
       "    }\n",
       "\n",
       "    .dataframe thead th {\n",
       "        text-align: right;\n",
       "    }\n",
       "</style>\n",
       "<table border=\"1\" class=\"dataframe\">\n",
       "  <thead>\n",
       "    <tr style=\"text-align: right;\">\n",
       "      <th></th>\n",
       "      <th>name</th>\n",
       "      <th>address</th>\n",
       "      <th>experience</th>\n",
       "      <th>skills</th>\n",
       "      <th>sal_from</th>\n",
       "      <th>sal_to</th>\n",
       "    </tr>\n",
       "  </thead>\n",
       "  <tbody>\n",
       "    <tr>\n",
       "      <th>355</th>\n",
       "      <td>Ведущий специалист по разработке скоринговых карт</td>\n",
       "      <td>Новосибирск</td>\n",
       "      <td>От 1 года до 3 лет</td>\n",
       "      <td>SQL, Sas, Базы данных, Скоринговая карта, База...</td>\n",
       "      <td>55000</td>\n",
       "      <td>105000</td>\n",
       "    </tr>\n",
       "    <tr>\n",
       "      <th>356</th>\n",
       "      <td>Lead data scientist (Анализ цены и Trade in)</td>\n",
       "      <td>Москва</td>\n",
       "      <td>От 3 до 6 лет</td>\n",
       "      <td>PyData: Pandas, NumPy, SciPy, scikit-learn, py...</td>\n",
       "      <td>180000</td>\n",
       "      <td>200000</td>\n",
       "    </tr>\n",
       "    <tr>\n",
       "      <th>357</th>\n",
       "      <td>Senior Data Scientist</td>\n",
       "      <td>Томск</td>\n",
       "      <td>Более 6 лет</td>\n",
       "      <td>SQL, Анализ данных, A/B тесты, LTV prediction,...</td>\n",
       "      <td>200000</td>\n",
       "      <td>210000</td>\n",
       "    </tr>\n",
       "    <tr>\n",
       "      <th>358</th>\n",
       "      <td>Data engineer (middle+)</td>\n",
       "      <td>Новосибирск</td>\n",
       "      <td>От 3 до 6 лет</td>\n",
       "      <td>Linux, ETL, Apache Kafka, Apache Spark, Apache...</td>\n",
       "      <td>150000</td>\n",
       "      <td>180000</td>\n",
       "    </tr>\n",
       "    <tr>\n",
       "      <th>359</th>\n",
       "      <td>Автор дисциплины \"Задачи NLP в машинном обучении\"</td>\n",
       "      <td>Нижний Новгород</td>\n",
       "      <td>От 3 до 6 лет</td>\n",
       "      <td>NLP, ML, Data Science, Обучение и развитие, На...</td>\n",
       "      <td>270000</td>\n",
       "      <td>320000</td>\n",
       "    </tr>\n",
       "  </tbody>\n",
       "</table>\n",
       "</div>"
      ],
      "text/plain": [
       "                                                  name          address  \\\n",
       "355  Ведущий специалист по разработке скоринговых карт      Новосибирск   \n",
       "356       Lead data scientist (Анализ цены и Trade in)           Москва   \n",
       "357                              Senior Data Scientist            Томск   \n",
       "358                            Data engineer (middle+)      Новосибирск   \n",
       "359  Автор дисциплины \"Задачи NLP в машинном обучении\"  Нижний Новгород   \n",
       "\n",
       "             experience                                             skills  \\\n",
       "355  От 1 года до 3 лет  SQL, Sas, Базы данных, Скоринговая карта, База...   \n",
       "356       От 3 до 6 лет  PyData: Pandas, NumPy, SciPy, scikit-learn, py...   \n",
       "357         Более 6 лет  SQL, Анализ данных, A/B тесты, LTV prediction,...   \n",
       "358       От 3 до 6 лет  Linux, ETL, Apache Kafka, Apache Spark, Apache...   \n",
       "359       От 3 до 6 лет  NLP, ML, Data Science, Обучение и развитие, На...   \n",
       "\n",
       "     sal_from  sal_to  \n",
       "355     55000  105000  \n",
       "356    180000  200000  \n",
       "357    200000  210000  \n",
       "358    150000  180000  \n",
       "359    270000  320000  "
      ]
     },
     "execution_count": 13,
     "metadata": {},
     "output_type": "execute_result"
    }
   ],
   "source": [
    "df.tail() # получение последних пяти строк таблицы"
   ]
  },
  {
   "cell_type": "code",
   "execution_count": 14,
   "id": "3ec67fff",
   "metadata": {},
   "outputs": [
    {
     "data": {
      "text/html": [
       "<div>\n",
       "<style scoped>\n",
       "    .dataframe tbody tr th:only-of-type {\n",
       "        vertical-align: middle;\n",
       "    }\n",
       "\n",
       "    .dataframe tbody tr th {\n",
       "        vertical-align: top;\n",
       "    }\n",
       "\n",
       "    .dataframe thead th {\n",
       "        text-align: right;\n",
       "    }\n",
       "</style>\n",
       "<table border=\"1\" class=\"dataframe\">\n",
       "  <thead>\n",
       "    <tr style=\"text-align: right;\">\n",
       "      <th></th>\n",
       "      <th>name</th>\n",
       "      <th>address</th>\n",
       "      <th>experience</th>\n",
       "      <th>skills</th>\n",
       "      <th>sal_from</th>\n",
       "      <th>sal_to</th>\n",
       "    </tr>\n",
       "  </thead>\n",
       "  <tbody>\n",
       "    <tr>\n",
       "      <th>55</th>\n",
       "      <td>Data Scientist</td>\n",
       "      <td>Казань</td>\n",
       "      <td>От 3 до 6 лет</td>\n",
       "      <td>Python</td>\n",
       "      <td>55000</td>\n",
       "      <td>85000</td>\n",
       "    </tr>\n",
       "    <tr>\n",
       "      <th>133</th>\n",
       "      <td>Data Scientist</td>\n",
       "      <td>Москва</td>\n",
       "      <td>От 3 до 6 лет</td>\n",
       "      <td>Уверенное владение Python. Опыт работы с библи...</td>\n",
       "      <td>280000</td>\n",
       "      <td>330000</td>\n",
       "    </tr>\n",
       "    <tr>\n",
       "      <th>170</th>\n",
       "      <td>Data Scientist (Алгоритмы оптимизации)</td>\n",
       "      <td>Москва</td>\n",
       "      <td>От 3 до 6 лет</td>\n",
       "      <td>Python, C++, Математическая статистика, Методы...</td>\n",
       "      <td>150000</td>\n",
       "      <td>220000</td>\n",
       "    </tr>\n",
       "    <tr>\n",
       "      <th>81</th>\n",
       "      <td>Data Scientist</td>\n",
       "      <td>Москва</td>\n",
       "      <td>От 3 до 6 лет</td>\n",
       "      <td>уверенное знание Python (библиотеки: NumPy, Pa...</td>\n",
       "      <td>90000</td>\n",
       "      <td>140000</td>\n",
       "    </tr>\n",
       "    <tr>\n",
       "      <th>91</th>\n",
       "      <td>Data Scientist (nlp)</td>\n",
       "      <td>Москва</td>\n",
       "      <td>От 3 до 6 лет</td>\n",
       "      <td>ML, Python, CatBoost, STT, ASR, LabelStudio</td>\n",
       "      <td>150000</td>\n",
       "      <td>180000</td>\n",
       "    </tr>\n",
       "    <tr>\n",
       "      <th>247</th>\n",
       "      <td>Data Scientist (модели PD/LGD/EAD)</td>\n",
       "      <td>Нижний Новгород</td>\n",
       "      <td>От 1 года до 3 лет</td>\n",
       "      <td>Python, ML, Data Science, Анализ данных</td>\n",
       "      <td>100000</td>\n",
       "      <td>110000</td>\n",
       "    </tr>\n",
       "    <tr>\n",
       "      <th>146</th>\n",
       "      <td>Data Engineer</td>\n",
       "      <td>Екатеринбург</td>\n",
       "      <td>От 1 года до 3 лет</td>\n",
       "      <td>Spark, Big Data, Hadoop, Базы данных, Python</td>\n",
       "      <td>300000</td>\n",
       "      <td>350000</td>\n",
       "    </tr>\n",
       "    <tr>\n",
       "      <th>344</th>\n",
       "      <td>DS NLP (LLM), Senior</td>\n",
       "      <td>Москва</td>\n",
       "      <td>От 3 до 6 лет</td>\n",
       "      <td>Python, SQL, PySpark, Pandas, PyTorch, RecBole...</td>\n",
       "      <td>85000</td>\n",
       "      <td>115000</td>\n",
       "    </tr>\n",
       "    <tr>\n",
       "      <th>54</th>\n",
       "      <td>Cпециалист-исследователь в области обработки а...</td>\n",
       "      <td>Нижний Новгород</td>\n",
       "      <td>От 1 года до 3 лет</td>\n",
       "      <td>Python, PyTorch, NLP, NER, Machine Learning</td>\n",
       "      <td>130000</td>\n",
       "      <td>160000</td>\n",
       "    </tr>\n",
       "    <tr>\n",
       "      <th>89</th>\n",
       "      <td>Middle/Senior Data Scientist</td>\n",
       "      <td>Москва</td>\n",
       "      <td>От 3 до 6 лет</td>\n",
       "      <td>Python, bash, git, SQL, Hadoop</td>\n",
       "      <td>180000</td>\n",
       "      <td>210000</td>\n",
       "    </tr>\n",
       "  </tbody>\n",
       "</table>\n",
       "</div>"
      ],
      "text/plain": [
       "                                                  name          address  \\\n",
       "55                                      Data Scientist           Казань   \n",
       "133                                     Data Scientist           Москва   \n",
       "170             Data Scientist (Алгоритмы оптимизации)           Москва   \n",
       "81                                      Data Scientist           Москва   \n",
       "91                                Data Scientist (nlp)           Москва   \n",
       "247                 Data Scientist (модели PD/LGD/EAD)  Нижний Новгород   \n",
       "146                                      Data Engineer     Екатеринбург   \n",
       "344                               DS NLP (LLM), Senior           Москва   \n",
       "54   Cпециалист-исследователь в области обработки а...  Нижний Новгород   \n",
       "89                        Middle/Senior Data Scientist           Москва   \n",
       "\n",
       "             experience                                             skills  \\\n",
       "55        От 3 до 6 лет                                             Python   \n",
       "133       От 3 до 6 лет  Уверенное владение Python. Опыт работы с библи...   \n",
       "170       От 3 до 6 лет  Python, C++, Математическая статистика, Методы...   \n",
       "81        От 3 до 6 лет  уверенное знание Python (библиотеки: NumPy, Pa...   \n",
       "91        От 3 до 6 лет        ML, Python, CatBoost, STT, ASR, LabelStudio   \n",
       "247  От 1 года до 3 лет            Python, ML, Data Science, Анализ данных   \n",
       "146  От 1 года до 3 лет       Spark, Big Data, Hadoop, Базы данных, Python   \n",
       "344       От 3 до 6 лет  Python, SQL, PySpark, Pandas, PyTorch, RecBole...   \n",
       "54   От 1 года до 3 лет        Python, PyTorch, NLP, NER, Machine Learning   \n",
       "89        От 3 до 6 лет                     Python, bash, git, SQL, Hadoop   \n",
       "\n",
       "     sal_from  sal_to  \n",
       "55      55000   85000  \n",
       "133    280000  330000  \n",
       "170    150000  220000  \n",
       "81      90000  140000  \n",
       "91     150000  180000  \n",
       "247    100000  110000  \n",
       "146    300000  350000  \n",
       "344     85000  115000  \n",
       "54     130000  160000  \n",
       "89     180000  210000  "
      ]
     },
     "execution_count": 14,
     "metadata": {},
     "output_type": "execute_result"
    }
   ],
   "source": [
    "df.sample(10) # получение случайных 10 строк из датафрейма"
   ]
  },
  {
   "cell_type": "markdown",
   "id": "00166931",
   "metadata": {},
   "source": [
    "Описание показателей: <br>name - название вакансии <br>address - город <br>experience - требуемый опыт <br>skills - требуемые навыки <br>sal_from - нижний порог зарплаты <br>sal_to - верхний порог зарплаты "
   ]
  },
  {
   "cell_type": "code",
   "execution_count": 15,
   "id": "1de593c5",
   "metadata": {},
   "outputs": [
    {
     "data": {
      "text/plain": [
       "(360, 6)"
      ]
     },
     "execution_count": 15,
     "metadata": {},
     "output_type": "execute_result"
    }
   ],
   "source": [
    "df.shape # кол-во строк и столбцов"
   ]
  },
  {
   "cell_type": "code",
   "execution_count": 16,
   "id": "bab6cd6d",
   "metadata": {},
   "outputs": [
    {
     "name": "stdout",
     "output_type": "stream",
     "text": [
      "<class 'pandas.core.frame.DataFrame'>\n",
      "RangeIndex: 360 entries, 0 to 359\n",
      "Data columns (total 6 columns):\n",
      " #   Column      Non-Null Count  Dtype \n",
      "---  ------      --------------  ----- \n",
      " 0   name        360 non-null    object\n",
      " 1   address     360 non-null    object\n",
      " 2   experience  360 non-null    object\n",
      " 3   skills      360 non-null    object\n",
      " 4   sal_from    360 non-null    int64 \n",
      " 5   sal_to      360 non-null    int64 \n",
      "dtypes: int64(2), object(4)\n",
      "memory usage: 17.0+ KB\n"
     ]
    }
   ],
   "source": [
    "df.info() # сводная инофрмация о таблице"
   ]
  },
  {
   "cell_type": "markdown",
   "id": "6194d554",
   "metadata": {},
   "source": [
    "Таблица выше: \n",
    "1. `<class 'pandas.core.frame.DataFrame'>` – объект DataFrame\n",
    "2. `RangeIndex: 360 entries, 0 to 359` – в таблице 360 строк с индексами от 0 до 359\n",
    "3. `Data columns (total 6 columns):` – в таблице 6 колонок\n",
    "4. После выводится небольшая таблица с информацией о названии колонки (`Column`), количестве непустых ячеек в колонке (`Non-Null Count`), а также тип данных (`Dtype`)\n",
    "5. `dtypes: int64(2), object(4)` – сводка по количеству столбцов с разными типами данных\n",
    "6. `memory usage: 17.0+ KB` – сколько памяти занимает таблица"
   ]
  },
  {
   "cell_type": "markdown",
   "id": "b73334be",
   "metadata": {},
   "source": [
    "Обращение к данным в таблице"
   ]
  },
  {
   "cell_type": "markdown",
   "id": "46970903",
   "metadata": {},
   "source": [
    "`датафрейм['столбец']` или `датафрейм.столбец` – обращение к одному столбцу\n",
    "\n",
    "`датафрейм[['столбец 1', 'столбец 2', ...]]` – обращение к нескольким столбцам"
   ]
  },
  {
   "cell_type": "code",
   "execution_count": null,
   "id": "c04fe68a",
   "metadata": {},
   "outputs": [
    {
     "data": {
      "text/plain": [
       "0           Начинающий специалист по работе с нейросетям\n",
       "1                                   Junior Data Engineer\n",
       "2                                             ML-инженер\n",
       "3                                         Data Scientist\n",
       "4                              Python Developer (Junior)\n",
       "                             ...                        \n",
       "355    Ведущий специалист по разработке скоринговых карт\n",
       "356         Lead data scientist (Анализ цены и Trade in)\n",
       "357                                Senior Data Scientist\n",
       "358                              Data engineer (middle+)\n",
       "359    Автор дисциплины \"Задачи NLP в машинном обучении\"\n",
       "Name: name, Length: 360, dtype: object"
      ]
     },
     "execution_count": 17,
     "metadata": {},
     "output_type": "execute_result"
    }
   ],
   "source": [
    "df['name']\n",
    "# или\n",
    "df.name"
   ]
  },
  {
   "cell_type": "code",
   "execution_count": 21,
   "id": "36a4bd30",
   "metadata": {},
   "outputs": [
    {
     "data": {
      "text/html": [
       "<div>\n",
       "<style scoped>\n",
       "    .dataframe tbody tr th:only-of-type {\n",
       "        vertical-align: middle;\n",
       "    }\n",
       "\n",
       "    .dataframe tbody tr th {\n",
       "        vertical-align: top;\n",
       "    }\n",
       "\n",
       "    .dataframe thead th {\n",
       "        text-align: right;\n",
       "    }\n",
       "</style>\n",
       "<table border=\"1\" class=\"dataframe\">\n",
       "  <thead>\n",
       "    <tr style=\"text-align: right;\">\n",
       "      <th></th>\n",
       "      <th>name</th>\n",
       "      <th>address</th>\n",
       "    </tr>\n",
       "  </thead>\n",
       "  <tbody>\n",
       "    <tr>\n",
       "      <th>0</th>\n",
       "      <td>Начинающий специалист по работе с нейросетям</td>\n",
       "      <td>Санкт-Петербург</td>\n",
       "    </tr>\n",
       "    <tr>\n",
       "      <th>1</th>\n",
       "      <td>Junior Data Engineer</td>\n",
       "      <td>Нижний Новгород</td>\n",
       "    </tr>\n",
       "    <tr>\n",
       "      <th>2</th>\n",
       "      <td>ML-инженер</td>\n",
       "      <td>Москва</td>\n",
       "    </tr>\n",
       "    <tr>\n",
       "      <th>3</th>\n",
       "      <td>Data Scientist</td>\n",
       "      <td>Москва</td>\n",
       "    </tr>\n",
       "    <tr>\n",
       "      <th>4</th>\n",
       "      <td>Python Developer (Junior)</td>\n",
       "      <td>Томск</td>\n",
       "    </tr>\n",
       "    <tr>\n",
       "      <th>...</th>\n",
       "      <td>...</td>\n",
       "      <td>...</td>\n",
       "    </tr>\n",
       "    <tr>\n",
       "      <th>355</th>\n",
       "      <td>Ведущий специалист по разработке скоринговых карт</td>\n",
       "      <td>Новосибирск</td>\n",
       "    </tr>\n",
       "    <tr>\n",
       "      <th>356</th>\n",
       "      <td>Lead data scientist (Анализ цены и Trade in)</td>\n",
       "      <td>Москва</td>\n",
       "    </tr>\n",
       "    <tr>\n",
       "      <th>357</th>\n",
       "      <td>Senior Data Scientist</td>\n",
       "      <td>Томск</td>\n",
       "    </tr>\n",
       "    <tr>\n",
       "      <th>358</th>\n",
       "      <td>Data engineer (middle+)</td>\n",
       "      <td>Новосибирск</td>\n",
       "    </tr>\n",
       "    <tr>\n",
       "      <th>359</th>\n",
       "      <td>Автор дисциплины \"Задачи NLP в машинном обучении\"</td>\n",
       "      <td>Нижний Новгород</td>\n",
       "    </tr>\n",
       "  </tbody>\n",
       "</table>\n",
       "<p>360 rows × 2 columns</p>\n",
       "</div>"
      ],
      "text/plain": [
       "                                                  name          address\n",
       "0         Начинающий специалист по работе с нейросетям  Санкт-Петербург\n",
       "1                                 Junior Data Engineer  Нижний Новгород\n",
       "2                                           ML-инженер           Москва\n",
       "3                                       Data Scientist           Москва\n",
       "4                            Python Developer (Junior)            Томск\n",
       "..                                                 ...              ...\n",
       "355  Ведущий специалист по разработке скоринговых карт      Новосибирск\n",
       "356       Lead data scientist (Анализ цены и Trade in)           Москва\n",
       "357                              Senior Data Scientist            Томск\n",
       "358                            Data engineer (middle+)      Новосибирск\n",
       "359  Автор дисциплины \"Задачи NLP в машинном обучении\"  Нижний Новгород\n",
       "\n",
       "[360 rows x 2 columns]"
      ]
     },
     "execution_count": 21,
     "metadata": {},
     "output_type": "execute_result"
    }
   ],
   "source": [
    "df[['name', 'address']]"
   ]
  },
  {
   "cell_type": "markdown",
   "id": "dc709a23",
   "metadata": {},
   "source": [
    "Обращение к строкам"
   ]
  },
  {
   "cell_type": "markdown",
   "id": "8f76292d",
   "metadata": {},
   "source": [
    "`датафрейм.loc['название строки' или индекс]` – обращение к строке по названию \\\n",
    "`датафрейм.iloc[индекс]` – обращение к строке по индексу (считается с 0)"
   ]
  },
  {
   "cell_type": "code",
   "execution_count": 25,
   "id": "aa6acf24",
   "metadata": {},
   "outputs": [
    {
     "data": {
      "text/plain": [
       "name               Начинающий специалист по работе с нейросетям\n",
       "address                                         Санкт-Петербург\n",
       "experience                                   От 1 года до 3 лет\n",
       "skills        Разработка технических заданий, Python, Сбор и...\n",
       "sal_from                                                  55000\n",
       "sal_to                                                    60000\n",
       "Name: 0, dtype: object"
      ]
     },
     "execution_count": 25,
     "metadata": {},
     "output_type": "execute_result"
    }
   ],
   "source": [
    "df.loc[0]"
   ]
  },
  {
   "cell_type": "code",
   "execution_count": 26,
   "id": "aa8b4b06",
   "metadata": {},
   "outputs": [
    {
     "data": {
      "text/plain": [
       "name               Начинающий специалист по работе с нейросетям\n",
       "address                                         Санкт-Петербург\n",
       "experience                                   От 1 года до 3 лет\n",
       "skills        Разработка технических заданий, Python, Сбор и...\n",
       "sal_from                                                  55000\n",
       "sal_to                                                    60000\n",
       "Name: 0, dtype: object"
      ]
     },
     "execution_count": 26,
     "metadata": {},
     "output_type": "execute_result"
    }
   ],
   "source": [
    "df.iloc[0]"
   ]
  },
  {
   "cell_type": "markdown",
   "id": "3acde1ed",
   "metadata": {},
   "source": [
    "Обращение к ячейкам"
   ]
  },
  {
   "cell_type": "markdown",
   "id": "97f07f44",
   "metadata": {},
   "source": [
    "`датафрейм['столбец'][индекс строки]` или `датафрейм.loc[индекс]['столбец']`"
   ]
  },
  {
   "cell_type": "code",
   "execution_count": 27,
   "id": "83ad3ec8",
   "metadata": {},
   "outputs": [
    {
     "data": {
      "text/plain": [
       "'Начинающий специалист по работе с нейросетям'"
      ]
     },
     "execution_count": 27,
     "metadata": {},
     "output_type": "execute_result"
    }
   ],
   "source": [
    "df['name'][0]"
   ]
  },
  {
   "cell_type": "code",
   "execution_count": 28,
   "id": "dc6513cb",
   "metadata": {},
   "outputs": [
    {
     "data": {
      "text/plain": [
       "'Начинающий специалист по работе с нейросетям'"
      ]
     },
     "execution_count": 28,
     "metadata": {},
     "output_type": "execute_result"
    }
   ],
   "source": [
    "df.loc[0]['name']"
   ]
  },
  {
   "cell_type": "code",
   "execution_count": 29,
   "id": "3edfca7e",
   "metadata": {},
   "outputs": [
    {
     "data": {
      "text/plain": [
       "str"
      ]
     },
     "execution_count": 29,
     "metadata": {},
     "output_type": "execute_result"
    }
   ],
   "source": [
    "type(df['name'][0])"
   ]
  },
  {
   "cell_type": "code",
   "execution_count": null,
   "id": "1f52c384",
   "metadata": {},
   "outputs": [
    {
     "data": {
      "text/plain": [
       "np.int64(55000)"
      ]
     },
     "execution_count": 30,
     "metadata": {},
     "output_type": "execute_result"
    }
   ],
   "source": [
    "df['sal_from'][0] # нижняя граница зарплаты в первой вакансии"
   ]
  },
  {
   "cell_type": "code",
   "execution_count": 31,
   "id": "5fd732c5",
   "metadata": {},
   "outputs": [
    {
     "data": {
      "text/plain": [
       "numpy.int64"
      ]
     },
     "execution_count": 31,
     "metadata": {},
     "output_type": "execute_result"
    }
   ],
   "source": [
    "type(df['sal_from'][0])"
   ]
  }
 ],
 "metadata": {
  "kernelspec": {
   "display_name": "Python 3",
   "language": "python",
   "name": "python3"
  },
  "language_info": {
   "codemirror_mode": {
    "name": "ipython",
    "version": 3
   },
   "file_extension": ".py",
   "mimetype": "text/x-python",
   "name": "python",
   "nbconvert_exporter": "python",
   "pygments_lexer": "ipython3",
   "version": "3.13.1"
  }
 },
 "nbformat": 4,
 "nbformat_minor": 5
}
